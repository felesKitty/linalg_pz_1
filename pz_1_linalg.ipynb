{
 "cells": [
  {
   "cell_type": "code",
   "execution_count": 22,
   "id": "1fcf3a57",
   "metadata": {},
   "outputs": [],
   "source": [
    "import numpy as np\n",
    "import math\n",
    "from numpy.linalg import norm"
   ]
  },
  {
   "cell_type": "code",
   "execution_count": 23,
   "id": "9c615df6",
   "metadata": {},
   "outputs": [],
   "source": [
    "# 2. Найдите нормы векторов и и угол между ними (4,2,4) (12,3,4)"
   ]
  },
  {
   "cell_type": "code",
   "execution_count": 24,
   "id": "cffdc98f",
   "metadata": {},
   "outputs": [
    {
     "name": "stdout",
     "output_type": "stream",
     "text": [
      "norm(x) = 6.0, norm(y) = 13.0, phi = 26.176952171666542 degrees\n"
     ]
    },
    {
     "data": {
      "text/plain": [
       "(6.0, 13.0, 26.176952171666557)"
      ]
     },
     "execution_count": 24,
     "metadata": {},
     "output_type": "execute_result"
    }
   ],
   "source": [
    "def vect_scalar(a, b):\n",
    "    result = 0\n",
    "    for x, y in zip(a, b):\n",
    "        result += x * y\n",
    "    return result\n",
    "\n",
    "x = np.array([4, 2, 4])\n",
    "y = np.array([12, 3, 4])\n",
    "\n",
    "norm_x = np.sqrt(vect_scalar(x, x))\n",
    "norm_y = np.sqrt(vect_scalar(y, y))\n",
    "\n",
    "cos_phi = vect_scalar(x, y) / (norm_x * norm_y)\n",
    "print(f'norm(x) = {norm_x}, norm(y) = {norm_y}, phi = {math.acos(cos_phi)*(180/math.pi)} degrees')\n",
    "\n",
    "norm(x), norm(y), math.acos(x.dot(y)/norm(x)/norm(y))*(180/math.pi)"
   ]
  },
  {
   "cell_type": "code",
   "execution_count": 25,
   "id": "e70b7390",
   "metadata": {},
   "outputs": [],
   "source": [
    "# 3. Определите будет ли линейное пространство евклидовым если за\n",
    "#скалярное произведение принять а) произведение длин векторов б)\n",
    "#утроенное обычное скалярное произведение векторов ?"
   ]
  },
  {
   "cell_type": "code",
   "execution_count": 26,
   "id": "d5b8a717",
   "metadata": {},
   "outputs": [
    {
     "name": "stdout",
     "output_type": "stream",
     "text": [
      "A:\n",
      "True\n",
      "False\n",
      "False\n",
      "True True\n",
      "------------\n",
      "B:\n",
      "True\n",
      "True\n",
      "True\n",
      "True True\n"
     ]
    }
   ],
   "source": [
    "# a)\n",
    "def vect_len_mul(a, b):\n",
    " return norm(a) * norm(b)\n",
    "\n",
    "# б)\n",
    "def triple_scalar(a, b):\n",
    " return 3*a.dot(b)\n",
    "\n",
    "#проверяем аксиомы\n",
    "def check_axioms(func):\n",
    " x = np.array([1, 2, 4])\n",
    " y = np.array([4, 5, 6])\n",
    " x1 = np.array([7, 8, 9])\n",
    " x2 = np.array([2, 5, 11])\n",
    " Lambda = 3\n",
    "\n",
    " #1 (x ,y) = (y, x)\n",
    " print(func(x, y) == func(y, x))\n",
    "\n",
    " #2 (lambda*x, y) = lambda(x, y)\n",
    " print(func(Lambda*x, y) == Lambda*func(x, y))\n",
    "\n",
    " #3 (x1+x2, y) = (x1, y) + (x2)\n",
    " print(func(x1+x2, y) == (func(x1, y) + func(x2, y)))\n",
    "\n",
    " #4 (x, x) >= 0, (x, x) = 0 -> x=0\n",
    " nul = np.array([0, 0, 0])\n",
    "\n",
    " print(func(x, x) >= 0, func(nul, nul) == 0)\n",
    "    \n",
    "print(\"A:\")\n",
    "check_axioms(vect_len_mul)\n",
    "print('------------')\n",
    "print('B:')\n",
    "check_axioms(triple_scalar)"
   ]
  },
  {
   "cell_type": "code",
   "execution_count": 27,
   "id": "688883d8",
   "metadata": {},
   "outputs": [],
   "source": [
    "# 4. Выясните какие из нижеперечисленных векторов образуют\n",
    "#ортонормированный базис в линейном пространстве R3:\n",
    "#а) (1, 0 ,0 ) ,(0 ,0 ,1);\n",
    "#б) (1/√2 ,−1/√2 , 0) ,(1/√2 , 1/√2 ,0) ,(0 , 0 , 1);\n",
    "#в) (1/2 ,−1/2, 0),(0, 1/2 ,1/2) ,(0,0 ,1) ;\n",
    "#г) (1, 0 ,0 ) ,(0 ,1 ,0) ,(0 , 0, 1)?\n",
    "#Cлучай г является стандартным ОНБ в пространстве R3.\n",
    "#В случае а не хватает одного вектора для образования трехмерного базиса\n",
    "#Проверим базисы б и г на выполнение свойств ОНБ вектора должны быть попарно перпендикулярными \n",
    "#скалярное произведение векторов попарно равно норма каждого вектора должна быть равна 0, 1"
   ]
  },
  {
   "cell_type": "code",
   "execution_count": 28,
   "id": "751a7ca0",
   "metadata": {},
   "outputs": [
    {
     "data": {
      "text/plain": [
       "(0.0, 0.0, 0.0, 0.9999999999999999, 0.9999999999999999, 1.0)"
      ]
     },
     "execution_count": 28,
     "metadata": {},
     "output_type": "execute_result"
    }
   ],
   "source": [
    "# б)\n",
    "\n",
    "two_sqrt = 1/np.sqrt(2)\n",
    "\n",
    "b1 = np.array([two_sqrt, -two_sqrt, 0])\n",
    "b2 = np.array([two_sqrt, two_sqrt, 0])\n",
    "b3 = np.array([0, 0, 1])\n",
    "\n",
    "b1.dot(b2), b1.dot(b3), b2.dot(b3), norm(b1), norm(b2), norm(b3)\n",
    "\n",
    "# => базис ортонормирован"
   ]
  },
  {
   "cell_type": "code",
   "execution_count": 29,
   "id": "5772e0fe",
   "metadata": {},
   "outputs": [
    {
     "data": {
      "text/plain": [
       "(-0.25, 0.0, 0.5, 0.7071067811865476, 0.7071067811865476, 1.0)"
      ]
     },
     "execution_count": 29,
     "metadata": {},
     "output_type": "execute_result"
    }
   ],
   "source": [
    "# в)\n",
    "\n",
    "b1 = np.array([0.5, -0.5, 0])\n",
    "b2 = np.array([0, 0.5, 0.5])\n",
    "b3 = np.array([0, 0, 1])\n",
    "\n",
    "b1.dot(b2), b1.dot(b3), b2.dot(b3), norm(b1), norm(b2), norm(b3)\n",
    "\n",
    "# => базис не ортонормирован"
   ]
  },
  {
   "cell_type": "code",
   "execution_count": null,
   "id": "81c860fe",
   "metadata": {},
   "outputs": [],
   "source": []
  }
 ],
 "metadata": {
  "kernelspec": {
   "display_name": "Python 3 (ipykernel)",
   "language": "python",
   "name": "python3"
  },
  "language_info": {
   "codemirror_mode": {
    "name": "ipython",
    "version": 3
   },
   "file_extension": ".py",
   "mimetype": "text/x-python",
   "name": "python",
   "nbconvert_exporter": "python",
   "pygments_lexer": "ipython3",
   "version": "3.9.12"
  }
 },
 "nbformat": 4,
 "nbformat_minor": 5
}
